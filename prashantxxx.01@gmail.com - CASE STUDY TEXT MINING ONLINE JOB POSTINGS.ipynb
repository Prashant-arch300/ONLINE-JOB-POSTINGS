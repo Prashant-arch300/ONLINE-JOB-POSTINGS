{
 "cells": [
  {
   "cell_type": "markdown",
   "metadata": {},
   "source": [
    "### import data and packages"
   ]
  },
  {
   "cell_type": "code",
   "execution_count": 1,
   "metadata": {},
   "outputs": [],
   "source": [
    "import numpy as np\n",
    "import pandas as pd"
   ]
  },
  {
   "cell_type": "code",
   "execution_count": 2,
   "metadata": {},
   "outputs": [],
   "source": [
    "data=pd.read_csv('D:/online job posts/data job posts.csv')"
   ]
  },
  {
   "cell_type": "code",
   "execution_count": 3,
   "metadata": {},
   "outputs": [],
   "source": [
    "data.date=pd.to_datetime(data.date,errors = 'coerce')"
   ]
  },
  {
   "cell_type": "code",
   "execution_count": 4,
   "metadata": {},
   "outputs": [
    {
     "data": {
      "text/html": [
       "<div>\n",
       "<style scoped>\n",
       "    .dataframe tbody tr th:only-of-type {\n",
       "        vertical-align: middle;\n",
       "    }\n",
       "\n",
       "    .dataframe tbody tr th {\n",
       "        vertical-align: top;\n",
       "    }\n",
       "\n",
       "    .dataframe thead th {\n",
       "        text-align: right;\n",
       "    }\n",
       "</style>\n",
       "<table border=\"1\" class=\"dataframe\">\n",
       "  <thead>\n",
       "    <tr style=\"text-align: right;\">\n",
       "      <th></th>\n",
       "      <th>jobpost</th>\n",
       "      <th>date</th>\n",
       "      <th>Title</th>\n",
       "      <th>Company</th>\n",
       "      <th>AnnouncementCode</th>\n",
       "      <th>Term</th>\n",
       "      <th>Eligibility</th>\n",
       "      <th>Audience</th>\n",
       "      <th>StartDate</th>\n",
       "      <th>Duration</th>\n",
       "      <th>...</th>\n",
       "      <th>Salary</th>\n",
       "      <th>ApplicationP</th>\n",
       "      <th>OpeningDate</th>\n",
       "      <th>Deadline</th>\n",
       "      <th>Notes</th>\n",
       "      <th>AboutC</th>\n",
       "      <th>Attach</th>\n",
       "      <th>Year</th>\n",
       "      <th>Month</th>\n",
       "      <th>IT</th>\n",
       "    </tr>\n",
       "  </thead>\n",
       "  <tbody>\n",
       "    <tr>\n",
       "      <th>0</th>\n",
       "      <td>AMERIA Investment Consulting Company\\nJOB TITL...</td>\n",
       "      <td>2004-01-05</td>\n",
       "      <td>Chief Financial Officer</td>\n",
       "      <td>AMERIA Investment Consulting Company</td>\n",
       "      <td>NaN</td>\n",
       "      <td>NaN</td>\n",
       "      <td>NaN</td>\n",
       "      <td>NaN</td>\n",
       "      <td>NaN</td>\n",
       "      <td>NaN</td>\n",
       "      <td>...</td>\n",
       "      <td>NaN</td>\n",
       "      <td>To apply for this position, please submit a\\nc...</td>\n",
       "      <td>NaN</td>\n",
       "      <td>26 January 2004</td>\n",
       "      <td>NaN</td>\n",
       "      <td>NaN</td>\n",
       "      <td>NaN</td>\n",
       "      <td>2004</td>\n",
       "      <td>1</td>\n",
       "      <td>False</td>\n",
       "    </tr>\n",
       "    <tr>\n",
       "      <th>1</th>\n",
       "      <td>International Research &amp; Exchanges Board (IREX...</td>\n",
       "      <td>2004-01-07</td>\n",
       "      <td>Full-time Community Connections Intern (paid i...</td>\n",
       "      <td>International Research &amp; Exchanges Board (IREX)</td>\n",
       "      <td>NaN</td>\n",
       "      <td>NaN</td>\n",
       "      <td>NaN</td>\n",
       "      <td>NaN</td>\n",
       "      <td>NaN</td>\n",
       "      <td>3 months</td>\n",
       "      <td>...</td>\n",
       "      <td>NaN</td>\n",
       "      <td>Please submit a cover letter and resume to:\\nI...</td>\n",
       "      <td>NaN</td>\n",
       "      <td>12 January 2004</td>\n",
       "      <td>NaN</td>\n",
       "      <td>The International Research &amp; Exchanges Board (...</td>\n",
       "      <td>NaN</td>\n",
       "      <td>2004</td>\n",
       "      <td>1</td>\n",
       "      <td>False</td>\n",
       "    </tr>\n",
       "    <tr>\n",
       "      <th>2</th>\n",
       "      <td>Caucasus Environmental NGO Network (CENN)\\nJOB...</td>\n",
       "      <td>2004-01-07</td>\n",
       "      <td>Country Coordinator</td>\n",
       "      <td>Caucasus Environmental NGO Network (CENN)</td>\n",
       "      <td>NaN</td>\n",
       "      <td>NaN</td>\n",
       "      <td>NaN</td>\n",
       "      <td>NaN</td>\n",
       "      <td>NaN</td>\n",
       "      <td>Renewable annual contract\\nPOSITION</td>\n",
       "      <td>...</td>\n",
       "      <td>NaN</td>\n",
       "      <td>Please send resume or CV toursula.kazarian@......</td>\n",
       "      <td>NaN</td>\n",
       "      <td>20 January 2004\\nSTART DATE:  February 2004</td>\n",
       "      <td>NaN</td>\n",
       "      <td>The Caucasus Environmental NGO Network is a\\nn...</td>\n",
       "      <td>NaN</td>\n",
       "      <td>2004</td>\n",
       "      <td>1</td>\n",
       "      <td>False</td>\n",
       "    </tr>\n",
       "    <tr>\n",
       "      <th>3</th>\n",
       "      <td>Manoff Group\\nJOB TITLE:  BCC Specialist\\nPOSI...</td>\n",
       "      <td>2004-01-07</td>\n",
       "      <td>BCC Specialist</td>\n",
       "      <td>Manoff Group</td>\n",
       "      <td>NaN</td>\n",
       "      <td>NaN</td>\n",
       "      <td>NaN</td>\n",
       "      <td>NaN</td>\n",
       "      <td>NaN</td>\n",
       "      <td>NaN</td>\n",
       "      <td>...</td>\n",
       "      <td>NaN</td>\n",
       "      <td>Please send cover letter and resume to Amy\\nPe...</td>\n",
       "      <td>NaN</td>\n",
       "      <td>23 January 2004\\nSTART DATE:  Immediate</td>\n",
       "      <td>NaN</td>\n",
       "      <td>NaN</td>\n",
       "      <td>NaN</td>\n",
       "      <td>2004</td>\n",
       "      <td>1</td>\n",
       "      <td>False</td>\n",
       "    </tr>\n",
       "    <tr>\n",
       "      <th>4</th>\n",
       "      <td>Yerevan Brandy Company\\nJOB TITLE:  Software D...</td>\n",
       "      <td>2004-01-10</td>\n",
       "      <td>Software Developer</td>\n",
       "      <td>Yerevan Brandy Company</td>\n",
       "      <td>NaN</td>\n",
       "      <td>NaN</td>\n",
       "      <td>NaN</td>\n",
       "      <td>NaN</td>\n",
       "      <td>NaN</td>\n",
       "      <td>NaN</td>\n",
       "      <td>...</td>\n",
       "      <td>NaN</td>\n",
       "      <td>Successful candidates should submit\\n- CV; \\n-...</td>\n",
       "      <td>NaN</td>\n",
       "      <td>20 January 2004, 18:00</td>\n",
       "      <td>NaN</td>\n",
       "      <td>NaN</td>\n",
       "      <td>NaN</td>\n",
       "      <td>2004</td>\n",
       "      <td>1</td>\n",
       "      <td>True</td>\n",
       "    </tr>\n",
       "    <tr>\n",
       "      <th>...</th>\n",
       "      <td>...</td>\n",
       "      <td>...</td>\n",
       "      <td>...</td>\n",
       "      <td>...</td>\n",
       "      <td>...</td>\n",
       "      <td>...</td>\n",
       "      <td>...</td>\n",
       "      <td>...</td>\n",
       "      <td>...</td>\n",
       "      <td>...</td>\n",
       "      <td>...</td>\n",
       "      <td>...</td>\n",
       "      <td>...</td>\n",
       "      <td>...</td>\n",
       "      <td>...</td>\n",
       "      <td>...</td>\n",
       "      <td>...</td>\n",
       "      <td>...</td>\n",
       "      <td>...</td>\n",
       "      <td>...</td>\n",
       "      <td>...</td>\n",
       "    </tr>\n",
       "    <tr>\n",
       "      <th>18996</th>\n",
       "      <td>Technolinguistics NGO\\n\\n\\nTITLE:  Senior Crea...</td>\n",
       "      <td>2015-12-28</td>\n",
       "      <td>Senior Creative UX/ UI Designer</td>\n",
       "      <td>Technolinguistics NGO</td>\n",
       "      <td>NaN</td>\n",
       "      <td>Full-time</td>\n",
       "      <td>NaN</td>\n",
       "      <td>NaN</td>\n",
       "      <td>NaN</td>\n",
       "      <td>Long-term</td>\n",
       "      <td>...</td>\n",
       "      <td>Competitive</td>\n",
       "      <td>To apply for this position, please send your\\n...</td>\n",
       "      <td>29 December 2015</td>\n",
       "      <td>28 January 2016</td>\n",
       "      <td>NaN</td>\n",
       "      <td>As a company Technolinguistics has a mandate t...</td>\n",
       "      <td>NaN</td>\n",
       "      <td>2015</td>\n",
       "      <td>12</td>\n",
       "      <td>False</td>\n",
       "    </tr>\n",
       "    <tr>\n",
       "      <th>18997</th>\n",
       "      <td>\"Coca-Cola Hellenic Bottling Company Armenia\" ...</td>\n",
       "      <td>2015-12-30</td>\n",
       "      <td>Category Development Manager</td>\n",
       "      <td>\"Coca-Cola Hellenic Bottling Company Armenia\" ...</td>\n",
       "      <td>NaN</td>\n",
       "      <td>Full-time</td>\n",
       "      <td>All interested professionals.</td>\n",
       "      <td>NaN</td>\n",
       "      <td>ASAP</td>\n",
       "      <td>Long-term with a probation period of 3 months.</td>\n",
       "      <td>...</td>\n",
       "      <td>NaN</td>\n",
       "      <td>All interested candidates are kindly requested...</td>\n",
       "      <td>30 December 2015</td>\n",
       "      <td>20 January 2016</td>\n",
       "      <td>NaN</td>\n",
       "      <td>NaN</td>\n",
       "      <td>NaN</td>\n",
       "      <td>2015</td>\n",
       "      <td>12</td>\n",
       "      <td>False</td>\n",
       "    </tr>\n",
       "    <tr>\n",
       "      <th>18998</th>\n",
       "      <td>\"Coca-Cola Hellenic Bottling Company Armenia\" ...</td>\n",
       "      <td>2015-12-30</td>\n",
       "      <td>Operational Marketing Manager</td>\n",
       "      <td>\"Coca-Cola Hellenic Bottling Company Armenia\" ...</td>\n",
       "      <td>NaN</td>\n",
       "      <td>Full-time</td>\n",
       "      <td>All interested professionals.</td>\n",
       "      <td>NaN</td>\n",
       "      <td>ASAP</td>\n",
       "      <td>Long-term with a probation period of 3 months.</td>\n",
       "      <td>...</td>\n",
       "      <td>NaN</td>\n",
       "      <td>All interested candidates are kindly requested...</td>\n",
       "      <td>30 December 2015</td>\n",
       "      <td>20 January 2016</td>\n",
       "      <td>NaN</td>\n",
       "      <td>NaN</td>\n",
       "      <td>NaN</td>\n",
       "      <td>2015</td>\n",
       "      <td>12</td>\n",
       "      <td>False</td>\n",
       "    </tr>\n",
       "    <tr>\n",
       "      <th>18999</th>\n",
       "      <td>San Lazzaro   LLC\\n\\n\\nTITLE:  Head of Online ...</td>\n",
       "      <td>2015-12-30</td>\n",
       "      <td>Head of Online Sales Department</td>\n",
       "      <td>San Lazzaro   LLC</td>\n",
       "      <td>NaN</td>\n",
       "      <td>NaN</td>\n",
       "      <td>NaN</td>\n",
       "      <td>NaN</td>\n",
       "      <td>NaN</td>\n",
       "      <td>Long-term</td>\n",
       "      <td>...</td>\n",
       "      <td>Highly competitive</td>\n",
       "      <td>Interested candidates can send their CVs to:\\n...</td>\n",
       "      <td>30 December 2015</td>\n",
       "      <td>29 January 2016</td>\n",
       "      <td>NaN</td>\n",
       "      <td>San Lazzaro LLC works with several internation...</td>\n",
       "      <td>NaN</td>\n",
       "      <td>2015</td>\n",
       "      <td>12</td>\n",
       "      <td>False</td>\n",
       "    </tr>\n",
       "    <tr>\n",
       "      <th>19000</th>\n",
       "      <td>\"Kamurj\" UCO CJSC\\n\\n\\nTITLE:  Lawyer in Legal...</td>\n",
       "      <td>2015-12-30</td>\n",
       "      <td>Lawyer in Legal Department</td>\n",
       "      <td>\"Kamurj\" UCO CJSC</td>\n",
       "      <td>NaN</td>\n",
       "      <td>Full-time</td>\n",
       "      <td>NaN</td>\n",
       "      <td>NaN</td>\n",
       "      <td>NaN</td>\n",
       "      <td>Indefinite</td>\n",
       "      <td>...</td>\n",
       "      <td>NaN</td>\n",
       "      <td>All qualified applicants are encouraged to\\nsu...</td>\n",
       "      <td>30 December 2015</td>\n",
       "      <td>20 January 2016</td>\n",
       "      <td>NaN</td>\n",
       "      <td>\"Kamurj\" UCO CJSC is providing micro and small...</td>\n",
       "      <td>NaN</td>\n",
       "      <td>2015</td>\n",
       "      <td>12</td>\n",
       "      <td>False</td>\n",
       "    </tr>\n",
       "  </tbody>\n",
       "</table>\n",
       "<p>19001 rows × 24 columns</p>\n",
       "</div>"
      ],
      "text/plain": [
       "                                                 jobpost       date  \\\n",
       "0      AMERIA Investment Consulting Company\\nJOB TITL... 2004-01-05   \n",
       "1      International Research & Exchanges Board (IREX... 2004-01-07   \n",
       "2      Caucasus Environmental NGO Network (CENN)\\nJOB... 2004-01-07   \n",
       "3      Manoff Group\\nJOB TITLE:  BCC Specialist\\nPOSI... 2004-01-07   \n",
       "4      Yerevan Brandy Company\\nJOB TITLE:  Software D... 2004-01-10   \n",
       "...                                                  ...        ...   \n",
       "18996  Technolinguistics NGO\\n\\n\\nTITLE:  Senior Crea... 2015-12-28   \n",
       "18997  \"Coca-Cola Hellenic Bottling Company Armenia\" ... 2015-12-30   \n",
       "18998  \"Coca-Cola Hellenic Bottling Company Armenia\" ... 2015-12-30   \n",
       "18999  San Lazzaro   LLC\\n\\n\\nTITLE:  Head of Online ... 2015-12-30   \n",
       "19000  \"Kamurj\" UCO CJSC\\n\\n\\nTITLE:  Lawyer in Legal... 2015-12-30   \n",
       "\n",
       "                                                   Title  \\\n",
       "0                                Chief Financial Officer   \n",
       "1      Full-time Community Connections Intern (paid i...   \n",
       "2                                    Country Coordinator   \n",
       "3                                         BCC Specialist   \n",
       "4                                     Software Developer   \n",
       "...                                                  ...   \n",
       "18996                    Senior Creative UX/ UI Designer   \n",
       "18997                       Category Development Manager   \n",
       "18998                      Operational Marketing Manager   \n",
       "18999                    Head of Online Sales Department   \n",
       "19000                         Lawyer in Legal Department   \n",
       "\n",
       "                                                 Company AnnouncementCode  \\\n",
       "0                   AMERIA Investment Consulting Company              NaN   \n",
       "1        International Research & Exchanges Board (IREX)              NaN   \n",
       "2              Caucasus Environmental NGO Network (CENN)              NaN   \n",
       "3                                           Manoff Group              NaN   \n",
       "4                                 Yerevan Brandy Company              NaN   \n",
       "...                                                  ...              ...   \n",
       "18996                              Technolinguistics NGO              NaN   \n",
       "18997  \"Coca-Cola Hellenic Bottling Company Armenia\" ...              NaN   \n",
       "18998  \"Coca-Cola Hellenic Bottling Company Armenia\" ...              NaN   \n",
       "18999                                  San Lazzaro   LLC              NaN   \n",
       "19000                                  \"Kamurj\" UCO CJSC              NaN   \n",
       "\n",
       "            Term                    Eligibility Audience StartDate  \\\n",
       "0            NaN                            NaN      NaN       NaN   \n",
       "1            NaN                            NaN      NaN       NaN   \n",
       "2            NaN                            NaN      NaN       NaN   \n",
       "3            NaN                            NaN      NaN       NaN   \n",
       "4            NaN                            NaN      NaN       NaN   \n",
       "...          ...                            ...      ...       ...   \n",
       "18996  Full-time                            NaN      NaN       NaN   \n",
       "18997  Full-time  All interested professionals.      NaN      ASAP   \n",
       "18998  Full-time  All interested professionals.      NaN      ASAP   \n",
       "18999        NaN                            NaN      NaN       NaN   \n",
       "19000  Full-time                            NaN      NaN       NaN   \n",
       "\n",
       "                                             Duration  ...  \\\n",
       "0                                                 NaN  ...   \n",
       "1                                            3 months  ...   \n",
       "2                 Renewable annual contract\\nPOSITION  ...   \n",
       "3                                                 NaN  ...   \n",
       "4                                                 NaN  ...   \n",
       "...                                               ...  ...   \n",
       "18996                                       Long-term  ...   \n",
       "18997  Long-term with a probation period of 3 months.  ...   \n",
       "18998  Long-term with a probation period of 3 months.  ...   \n",
       "18999                                       Long-term  ...   \n",
       "19000                                      Indefinite  ...   \n",
       "\n",
       "                   Salary                                       ApplicationP  \\\n",
       "0                     NaN  To apply for this position, please submit a\\nc...   \n",
       "1                     NaN  Please submit a cover letter and resume to:\\nI...   \n",
       "2                     NaN  Please send resume or CV toursula.kazarian@......   \n",
       "3                     NaN  Please send cover letter and resume to Amy\\nPe...   \n",
       "4                     NaN  Successful candidates should submit\\n- CV; \\n-...   \n",
       "...                   ...                                                ...   \n",
       "18996         Competitive  To apply for this position, please send your\\n...   \n",
       "18997                 NaN  All interested candidates are kindly requested...   \n",
       "18998                 NaN  All interested candidates are kindly requested...   \n",
       "18999  Highly competitive  Interested candidates can send their CVs to:\\n...   \n",
       "19000                 NaN  All qualified applicants are encouraged to\\nsu...   \n",
       "\n",
       "            OpeningDate                                     Deadline Notes  \\\n",
       "0                   NaN                              26 January 2004   NaN   \n",
       "1                   NaN                              12 January 2004   NaN   \n",
       "2                   NaN  20 January 2004\\nSTART DATE:  February 2004   NaN   \n",
       "3                   NaN      23 January 2004\\nSTART DATE:  Immediate   NaN   \n",
       "4                   NaN                       20 January 2004, 18:00   NaN   \n",
       "...                 ...                                          ...   ...   \n",
       "18996  29 December 2015                              28 January 2016   NaN   \n",
       "18997  30 December 2015                              20 January 2016   NaN   \n",
       "18998  30 December 2015                              20 January 2016   NaN   \n",
       "18999  30 December 2015                              29 January 2016   NaN   \n",
       "19000  30 December 2015                              20 January 2016   NaN   \n",
       "\n",
       "                                                  AboutC Attach  Year Month  \\\n",
       "0                                                    NaN    NaN  2004     1   \n",
       "1      The International Research & Exchanges Board (...    NaN  2004     1   \n",
       "2      The Caucasus Environmental NGO Network is a\\nn...    NaN  2004     1   \n",
       "3                                                    NaN    NaN  2004     1   \n",
       "4                                                    NaN    NaN  2004     1   \n",
       "...                                                  ...    ...   ...   ...   \n",
       "18996  As a company Technolinguistics has a mandate t...    NaN  2015    12   \n",
       "18997                                                NaN    NaN  2015    12   \n",
       "18998                                                NaN    NaN  2015    12   \n",
       "18999  San Lazzaro LLC works with several internation...    NaN  2015    12   \n",
       "19000  \"Kamurj\" UCO CJSC is providing micro and small...    NaN  2015    12   \n",
       "\n",
       "          IT  \n",
       "0      False  \n",
       "1      False  \n",
       "2      False  \n",
       "3      False  \n",
       "4       True  \n",
       "...      ...  \n",
       "18996  False  \n",
       "18997  False  \n",
       "18998  False  \n",
       "18999  False  \n",
       "19000  False  \n",
       "\n",
       "[19001 rows x 24 columns]"
      ]
     },
     "execution_count": 4,
     "metadata": {},
     "output_type": "execute_result"
    }
   ],
   "source": [
    "data"
   ]
  },
  {
   "cell_type": "markdown",
   "metadata": {},
   "source": [
    "### #1"
   ]
  },
  {
   "cell_type": "code",
   "execution_count": 5,
   "metadata": {},
   "outputs": [
    {
     "data": {
      "text/plain": [
       "9059        iPhone/ iPad Software Developer\n",
       "8407     iPhone/ iPad Application Developer\n",
       "13617    iPhone/ iPad Application Developer\n",
       "13297    iPhone/ iPad Application Developer\n",
       "14575          iPhone Application Developer\n",
       "                        ...                \n",
       "11349                                   NaN\n",
       "11354                                   NaN\n",
       "15246                                   NaN\n",
       "15498                                   NaN\n",
       "15681                                   NaN\n",
       "Name: Title, Length: 19001, dtype: object"
      ]
     },
     "execution_count": 5,
     "metadata": {},
     "output_type": "execute_result"
    }
   ],
   "source": [
    "data.Title.sort_values(ascending=False)"
   ]
  },
  {
   "cell_type": "code",
   "execution_count": 6,
   "metadata": {},
   "outputs": [],
   "source": [
    "dicti={}\n",
    "keys=data.Year.unique()\n",
    "for i in keys:\n",
    "    dicti[i]=(data[data.Year==i].Title.value_counts().head(5))"
   ]
  },
  {
   "cell_type": "code",
   "execution_count": 7,
   "metadata": {},
   "outputs": [
    {
     "data": {
      "text/plain": [
       "<matplotlib.axes._subplots.AxesSubplot at 0x16e9c2385c8>"
      ]
     },
     "execution_count": 7,
     "metadata": {},
     "output_type": "execute_result"
    }
   ],
   "source": [
    "pd.DataFrame(dicti).T.plot(kind='bar',stacked=True,figsize=(14,10))\n"
   ]
  },
  {
   "cell_type": "code",
   "execution_count": 8,
   "metadata": {},
   "outputs": [
    {
     "data": {
      "text/plain": [
       "array([2004, 2005, 2006, 2007, 2008, 2009, 2010, 2011, 2012, 2013, 2014,\n",
       "       2015], dtype=int64)"
      ]
     },
     "execution_count": 8,
     "metadata": {},
     "output_type": "execute_result"
    }
   ],
   "source": [
    "data.Year.unique()"
   ]
  },
  {
   "cell_type": "markdown",
   "metadata": {},
   "source": [
    "### #2"
   ]
  },
  {
   "cell_type": "code",
   "execution_count": 9,
   "metadata": {},
   "outputs": [],
   "source": [
    "data.RequiredQual=data.RequiredQual.astype('object')"
   ]
  },
  {
   "cell_type": "code",
   "execution_count": 10,
   "metadata": {},
   "outputs": [],
   "source": [
    "data.RequiredQual=data.RequiredQual.apply(str)"
   ]
  },
  {
   "cell_type": "code",
   "execution_count": 11,
   "metadata": {},
   "outputs": [],
   "source": [
    "data.RequiredQual.dropna(inplace=True)"
   ]
  },
  {
   "cell_type": "code",
   "execution_count": 12,
   "metadata": {},
   "outputs": [],
   "source": [
    "data.RequiredQual=data.RequiredQual"
   ]
  },
  {
   "cell_type": "code",
   "execution_count": 13,
   "metadata": {},
   "outputs": [
    {
     "data": {
      "text/plain": [
       "str"
      ]
     },
     "execution_count": 13,
     "metadata": {},
     "output_type": "execute_result"
    }
   ],
   "source": [
    "type(data.RequiredQual[10])"
   ]
  },
  {
   "cell_type": "code",
   "execution_count": 14,
   "metadata": {},
   "outputs": [
    {
     "data": {
      "text/plain": [
       "['nan']"
      ]
     },
     "execution_count": 14,
     "metadata": {},
     "output_type": "execute_result"
    }
   ],
   "source": [
    "data[data.Year==2004].RequiredQual[10].split('\\nREMUNERATION')[0].replace('\\n' ,'').replace('-','').split(';')"
   ]
  },
  {
   "cell_type": "code",
   "execution_count": 15,
   "metadata": {},
   "outputs": [],
   "source": [
    "skill_dict_year=[]\n",
    "for year in data.Year.unique():\n",
    "    l1=[]\n",
    "    for i in range(len(data[data.Year==year])):\n",
    "        data_df=data[data.Year==year].reset_index(drop=True)\n",
    "        l1.append(data_df.RequiredQual[i].split('\\nREMUNERATION')[0].replace('\\n' ,'').replace('-','').split(';'))\n",
    "    flat_list = []\n",
    "    for sublist in l1:\n",
    "        for item in sublist:\n",
    "            flat_list.append(item)\n",
    "    l_year=[]\n",
    "    for fl in flat_list:\n",
    "        l_year.append(year)\n",
    "    ldf=pd.DataFrame({'Year':l_year,'Req_Qual':flat_list})    \n",
    "    skill_dict_year.append(ldf)"
   ]
  },
  {
   "cell_type": "code",
   "execution_count": 16,
   "metadata": {},
   "outputs": [],
   "source": [
    "skill_dict_year_df=pd.concat(skill_dict_year)"
   ]
  },
  {
   "cell_type": "markdown",
   "metadata": {},
   "source": [
    "### The desired characteristics and skill-set of the candidates based on the job description are "
   ]
  },
  {
   "cell_type": "code",
   "execution_count": 17,
   "metadata": {},
   "outputs": [
    {
     "data": {
      "text/html": [
       "<div>\n",
       "<style scoped>\n",
       "    .dataframe tbody tr th:only-of-type {\n",
       "        vertical-align: middle;\n",
       "    }\n",
       "\n",
       "    .dataframe tbody tr th {\n",
       "        vertical-align: top;\n",
       "    }\n",
       "\n",
       "    .dataframe thead th {\n",
       "        text-align: right;\n",
       "    }\n",
       "</style>\n",
       "<table border=\"1\" class=\"dataframe\">\n",
       "  <thead>\n",
       "    <tr style=\"text-align: right;\">\n",
       "      <th></th>\n",
       "      <th>Year</th>\n",
       "      <th>Req_Qual</th>\n",
       "    </tr>\n",
       "  </thead>\n",
       "  <tbody>\n",
       "    <tr>\n",
       "      <th>0</th>\n",
       "      <td>2004</td>\n",
       "      <td>To perform this job successfully, anindividual...</td>\n",
       "    </tr>\n",
       "    <tr>\n",
       "      <th>1</th>\n",
       "      <td>2004</td>\n",
       "      <td>Local accounting standards and legislation</td>\n",
       "    </tr>\n",
       "    <tr>\n",
       "      <th>2</th>\n",
       "      <td>2004</td>\n",
       "      <td>State reporting requirements pertaining to ac...</td>\n",
       "    </tr>\n",
       "    <tr>\n",
       "      <th>3</th>\n",
       "      <td>2004</td>\n",
       "      <td>Principles and practices of financial managem...</td>\n",
       "    </tr>\n",
       "    <tr>\n",
       "      <th>4</th>\n",
       "      <td>2004</td>\n",
       "      <td>Principles and practices of financial systems...</td>\n",
       "    </tr>\n",
       "    <tr>\n",
       "      <th>...</th>\n",
       "      <td>...</td>\n",
       "      <td>...</td>\n",
       "    </tr>\n",
       "    <tr>\n",
       "      <th>19391</th>\n",
       "      <td>2015</td>\n",
       "      <td>Ability to work in a high pressure environment</td>\n",
       "    </tr>\n",
       "    <tr>\n",
       "      <th>19392</th>\n",
       "      <td>2015</td>\n",
       "      <td>Ability to find solutions in tense situations</td>\n",
       "    </tr>\n",
       "    <tr>\n",
       "      <th>19393</th>\n",
       "      <td>2015</td>\n",
       "      <td>Communication and negotiation skills</td>\n",
       "    </tr>\n",
       "    <tr>\n",
       "      <th>19394</th>\n",
       "      <td>2015</td>\n",
       "      <td>Ability to work in a team</td>\n",
       "    </tr>\n",
       "    <tr>\n",
       "      <th>19395</th>\n",
       "      <td>2015</td>\n",
       "      <td>Communicative and punctual person with a high...</td>\n",
       "    </tr>\n",
       "  </tbody>\n",
       "</table>\n",
       "<p>158434 rows × 2 columns</p>\n",
       "</div>"
      ],
      "text/plain": [
       "       Year                                           Req_Qual\n",
       "0      2004  To perform this job successfully, anindividual...\n",
       "1      2004         Local accounting standards and legislation\n",
       "2      2004   State reporting requirements pertaining to ac...\n",
       "3      2004   Principles and practices of financial managem...\n",
       "4      2004   Principles and practices of financial systems...\n",
       "...     ...                                                ...\n",
       "19391  2015     Ability to work in a high pressure environment\n",
       "19392  2015      Ability to find solutions in tense situations\n",
       "19393  2015               Communication and negotiation skills\n",
       "19394  2015                          Ability to work in a team\n",
       "19395  2015   Communicative and punctual person with a high...\n",
       "\n",
       "[158434 rows x 2 columns]"
      ]
     },
     "execution_count": 17,
     "metadata": {},
     "output_type": "execute_result"
    }
   ],
   "source": [
    "skill_dict_year_df"
   ]
  },
  {
   "cell_type": "code",
   "execution_count": 18,
   "metadata": {},
   "outputs": [
    {
     "data": {
      "text/plain": [
       " Higher education                  1111\n",
       " University degree                  769\n",
       " Excellent communication skills     718\n",
       " Ability to work under pressure     580\n",
       " Good communication skills          561\n",
       "Name: Req_Qual, dtype: int64"
      ]
     },
     "execution_count": 18,
     "metadata": {},
     "output_type": "execute_result"
    }
   ],
   "source": [
    "skill_dict_year_df.Req_Qual.value_counts().head(5)"
   ]
  },
  {
   "cell_type": "code",
   "execution_count": 19,
   "metadata": {},
   "outputs": [],
   "source": [
    "dicti={}\n",
    "keys=data.Year.unique()\n",
    "for i in keys:\n",
    "    dicti[i]=(skill_dict_year_df[skill_dict_year_df.Year==i].Req_Qual.value_counts().head(5))"
   ]
  },
  {
   "cell_type": "markdown",
   "metadata": {},
   "source": [
    "### And the desired characteristics changing over time are as follows"
   ]
  },
  {
   "cell_type": "code",
   "execution_count": 20,
   "metadata": {},
   "outputs": [
    {
     "data": {
      "text/plain": [
       "<matplotlib.axes._subplots.AxesSubplot at 0x16ea4667288>"
      ]
     },
     "execution_count": 20,
     "metadata": {},
     "output_type": "execute_result"
    },
    {
     "data": {
      "image/png": "[encoded data removed]",
      "text/plain": [
       "<Figure size 1008x720 with 1 Axes>"
      ]
     },
     "metadata": {
      "needs_background": "light"
     },
     "output_type": "display_data"
    }
   ],
   "source": [
    "pd.DataFrame(dicti).T.plot(kind='bar',stacked=True,figsize=(14,10))\n"
   ]
  },
  {
   "cell_type": "markdown",
   "metadata": {},
   "source": [
    "### #3\n",
    "###  Building a classifier that can tell  the job description and company description whether a job is IT or not"
   ]
  },
  {
   "cell_type": "code",
   "execution_count": 21,
   "metadata": {},
   "outputs": [],
   "source": [
    "data_clas=data.loc[:,['Title','JobRequirment','AboutC','RequiredQual','IT']].dropna().reset_index(drop=True)"
   ]
  },
  {
   "cell_type": "code",
   "execution_count": 22,
   "metadata": {},
   "outputs": [
    {
     "data": {
      "text/html": [
       "<div>\n",
       "<style scoped>\n",
       "    .dataframe tbody tr th:only-of-type {\n",
       "        vertical-align: middle;\n",
       "    }\n",
       "\n",
       "    .dataframe tbody tr th {\n",
       "        vertical-align: top;\n",
       "    }\n",
       "\n",
       "    .dataframe thead th {\n",
       "        text-align: right;\n",
       "    }\n",
       "</style>\n",
       "<table border=\"1\" class=\"dataframe\">\n",
       "  <thead>\n",
       "    <tr style=\"text-align: right;\">\n",
       "      <th></th>\n",
       "      <th>Title</th>\n",
       "      <th>JobRequirment</th>\n",
       "      <th>AboutC</th>\n",
       "      <th>RequiredQual</th>\n",
       "      <th>IT</th>\n",
       "    </tr>\n",
       "  </thead>\n",
       "  <tbody>\n",
       "    <tr>\n",
       "      <th>0</th>\n",
       "      <td>Country Coordinator</td>\n",
       "      <td>- Working with the Country Director to provide...</td>\n",
       "      <td>The Caucasus Environmental NGO Network is a\\nn...</td>\n",
       "      <td>- Degree in environmentally related field, or ...</td>\n",
       "      <td>False</td>\n",
       "    </tr>\n",
       "    <tr>\n",
       "      <th>1</th>\n",
       "      <td>Marketing Advisor</td>\n",
       "      <td>- Lead the effort to identify targets of oppor...</td>\n",
       "      <td>ACDI/VOCA is an international development and ...</td>\n",
       "      <td>- 10+ years of actual commercial marketing exp...</td>\n",
       "      <td>False</td>\n",
       "    </tr>\n",
       "    <tr>\n",
       "      <th>2</th>\n",
       "      <td>Manufacturing Chief</td>\n",
       "      <td>- To manage all manufacturing functions in the...</td>\n",
       "      <td>ARQELL CJSC is a multidisciplinary manufacturi...</td>\n",
       "      <td>- Degree in Mechanical Engineering or related ...</td>\n",
       "      <td>False</td>\n",
       "    </tr>\n",
       "    <tr>\n",
       "      <th>3</th>\n",
       "      <td>Administrative Assistant/ Secretary</td>\n",
       "      <td>- To welcome visitors;\\n- To organize and foll...</td>\n",
       "      <td>Accion Contra el Hambre (ACH) is a Spanish hum...</td>\n",
       "      <td>- Minimum two years relevant professional expe...</td>\n",
       "      <td>False</td>\n",
       "    </tr>\n",
       "    <tr>\n",
       "      <th>4</th>\n",
       "      <td>Salesman / Trade agent</td>\n",
       "      <td>- To distribute and display imported confectio...</td>\n",
       "      <td>Interagent LLC is a distributor of several mul...</td>\n",
       "      <td>- 20-35 years old\\n- Valid driver's license\\n-...</td>\n",
       "      <td>False</td>\n",
       "    </tr>\n",
       "    <tr>\n",
       "      <th>...</th>\n",
       "      <td>...</td>\n",
       "      <td>...</td>\n",
       "      <td>...</td>\n",
       "      <td>...</td>\n",
       "      <td>...</td>\n",
       "    </tr>\n",
       "    <tr>\n",
       "      <th>10920</th>\n",
       "      <td>.NET Developer</td>\n",
       "      <td>- Participate in all the steps of the software...</td>\n",
       "      <td>Macadamian AR is a global software development...</td>\n",
       "      <td>- 2 - 5 years of experience in software develo...</td>\n",
       "      <td>True</td>\n",
       "    </tr>\n",
       "    <tr>\n",
       "      <th>10921</th>\n",
       "      <td>Deputy Director</td>\n",
       "      <td>- Support the Director in organizing the activ...</td>\n",
       "      <td>The \"Transport PIU\" SI (PIU) of the RA Ministr...</td>\n",
       "      <td>- University degree in Civil Engineering, Econ...</td>\n",
       "      <td>False</td>\n",
       "    </tr>\n",
       "    <tr>\n",
       "      <th>10922</th>\n",
       "      <td>Senior Creative UX/ UI Designer</td>\n",
       "      <td>- Work closely with product and business teams...</td>\n",
       "      <td>As a company Technolinguistics has a mandate t...</td>\n",
       "      <td>- At least 5 years of experience in Interface/...</td>\n",
       "      <td>False</td>\n",
       "    </tr>\n",
       "    <tr>\n",
       "      <th>10923</th>\n",
       "      <td>Head of Online Sales Department</td>\n",
       "      <td>- Handle the project activites of the online s...</td>\n",
       "      <td>San Lazzaro LLC works with several internation...</td>\n",
       "      <td>- At least 1 year of experience in online sale...</td>\n",
       "      <td>False</td>\n",
       "    </tr>\n",
       "    <tr>\n",
       "      <th>10924</th>\n",
       "      <td>Lawyer in Legal Department</td>\n",
       "      <td>- Properly provide internal legal services of ...</td>\n",
       "      <td>\"Kamurj\" UCO CJSC is providing micro and small...</td>\n",
       "      <td>- Higher legal education; Master's degree is a...</td>\n",
       "      <td>False</td>\n",
       "    </tr>\n",
       "  </tbody>\n",
       "</table>\n",
       "<p>10925 rows × 5 columns</p>\n",
       "</div>"
      ],
      "text/plain": [
       "                                     Title  \\\n",
       "0                      Country Coordinator   \n",
       "1                        Marketing Advisor   \n",
       "2                      Manufacturing Chief   \n",
       "3      Administrative Assistant/ Secretary   \n",
       "4                   Salesman / Trade agent   \n",
       "...                                    ...   \n",
       "10920                       .NET Developer   \n",
       "10921                      Deputy Director   \n",
       "10922      Senior Creative UX/ UI Designer   \n",
       "10923      Head of Online Sales Department   \n",
       "10924           Lawyer in Legal Department   \n",
       "\n",
       "                                           JobRequirment  \\\n",
       "0      - Working with the Country Director to provide...   \n",
       "1      - Lead the effort to identify targets of oppor...   \n",
       "2      - To manage all manufacturing functions in the...   \n",
       "3      - To welcome visitors;\\n- To organize and foll...   \n",
       "4      - To distribute and display imported confectio...   \n",
       "...                                                  ...   \n",
       "10920  - Participate in all the steps of the software...   \n",
       "10921  - Support the Director in organizing the activ...   \n",
       "10922  - Work closely with product and business teams...   \n",
       "10923  - Handle the project activites of the online s...   \n",
       "10924  - Properly provide internal legal services of ...   \n",
       "\n",
       "                                                  AboutC  \\\n",
       "0      The Caucasus Environmental NGO Network is a\\nn...   \n",
       "1      ACDI/VOCA is an international development and ...   \n",
       "2      ARQELL CJSC is a multidisciplinary manufacturi...   \n",
       "3      Accion Contra el Hambre (ACH) is a Spanish hum...   \n",
       "4      Interagent LLC is a distributor of several mul...   \n",
       "...                                                  ...   \n",
       "10920  Macadamian AR is a global software development...   \n",
       "10921  The \"Transport PIU\" SI (PIU) of the RA Ministr...   \n",
       "10922  As a company Technolinguistics has a mandate t...   \n",
       "10923  San Lazzaro LLC works with several internation...   \n",
       "10924  \"Kamurj\" UCO CJSC is providing micro and small...   \n",
       "\n",
       "                                            RequiredQual     IT  \n",
       "0      - Degree in environmentally related field, or ...  False  \n",
       "1      - 10+ years of actual commercial marketing exp...  False  \n",
       "2      - Degree in Mechanical Engineering or related ...  False  \n",
       "3      - Minimum two years relevant professional expe...  False  \n",
       "4      - 20-35 years old\\n- Valid driver's license\\n-...  False  \n",
       "...                                                  ...    ...  \n",
       "10920  - 2 - 5 years of experience in software develo...   True  \n",
       "10921  - University degree in Civil Engineering, Econ...  False  \n",
       "10922  - At least 5 years of experience in Interface/...  False  \n",
       "10923  - At least 1 year of experience in online sale...  False  \n",
       "10924  - Higher legal education; Master's degree is a...  False  \n",
       "\n",
       "[10925 rows x 5 columns]"
      ]
     },
     "execution_count": 22,
     "metadata": {},
     "output_type": "execute_result"
    }
   ],
   "source": [
    "data_clas.reset_index(drop=True)"
   ]
  },
  {
   "cell_type": "code",
   "execution_count": 23,
   "metadata": {},
   "outputs": [],
   "source": [
    "Y=data_clas.IT"
   ]
  },
  {
   "cell_type": "code",
   "execution_count": 24,
   "metadata": {},
   "outputs": [],
   "source": [
    "# merging all the x var to make one\n",
    "data_clas['X1'] = data_clas['Title'].str.cat(data_clas['JobRequirment'], sep =\" \").str.cat(data_clas['RequiredQual'], sep =\" \")\n",
    "X=data_clas['X1']"
   ]
  },
  {
   "cell_type": "code",
   "execution_count": 25,
   "metadata": {},
   "outputs": [
    {
     "data": {
      "text/plain": [
       "0        Country Coordinator - Working with the Country...\n",
       "1        Marketing Advisor - Lead the effort to identif...\n",
       "2        Manufacturing Chief - To manage all manufactur...\n",
       "3        Administrative Assistant/ Secretary - To welco...\n",
       "4        Salesman / Trade agent - To distribute and dis...\n",
       "                               ...                        \n",
       "10920    .NET Developer - Participate in all the steps ...\n",
       "10921    Deputy Director - Support the Director in orga...\n",
       "10922    Senior Creative UX/ UI Designer - Work closely...\n",
       "10923    Head of Online Sales Department - Handle the p...\n",
       "10924    Lawyer in Legal Department - Properly provide ...\n",
       "Name: X1, Length: 10925, dtype: object"
      ]
     },
     "execution_count": 25,
     "metadata": {},
     "output_type": "execute_result"
    }
   ],
   "source": [
    "X"
   ]
  },
  {
   "cell_type": "markdown",
   "metadata": {},
   "source": [
    "### creating corpus"
   ]
  },
  {
   "cell_type": "code",
   "execution_count": 26,
   "metadata": {},
   "outputs": [],
   "source": [
    "import re\n",
    "corpus = []\n",
    "for i in range(len(X)):\n",
    "    review = re.sub(r'\\W', ' ', str(X[i]))\n",
    "    review = review.lower()\n",
    "    review = re.sub(r'^br$', ' ', review)\n",
    "    review = re.sub(r'\\s+[a-z]\\s+', ' ',review)\n",
    "    review = re.sub(r'^[a-z]\\s+', ' ', review)\n",
    "    review = re.sub(r'\\s+', ' ', review)\n",
    "    corpus.append(review)  "
   ]
  },
  {
   "cell_type": "code",
   "execution_count": 27,
   "metadata": {},
   "outputs": [
    {
     "data": {
      "text/plain": [
       "'country coordinator working with the country director to provide environmental information to the general public via regular electronic communications and serving as the primary local contact to armenian ngos and businesses and the armenian offices of international organizations and agencies helping to organize and prepare cenn seminars workshops participating in defining the strategy and policy of cenn in armenia the caucasus region and abroad degree in environmentally related field or 5 years relevant experience oral and written fluency in armenian russian and english knowledge experience of working with environmental issues specific to armenia is plus remuneration salary commensurate with experience '"
      ]
     },
     "execution_count": 27,
     "metadata": {},
     "output_type": "execute_result"
    }
   ],
   "source": [
    "corpus[0]"
   ]
  },
  {
   "cell_type": "code",
   "execution_count": 28,
   "metadata": {},
   "outputs": [],
   "source": [
    "from nltk import PorterStemmer,WordNetLemmatizer"
   ]
  },
  {
   "cell_type": "code",
   "execution_count": 29,
   "metadata": {},
   "outputs": [],
   "source": [
    "from nltk.corpus import stopwords"
   ]
  },
  {
   "cell_type": "code",
   "execution_count": 30,
   "metadata": {},
   "outputs": [],
   "source": [
    "import nltk"
   ]
  },
  {
   "cell_type": "code",
   "execution_count": 31,
   "metadata": {},
   "outputs": [],
   "source": [
    "stemmer=PorterStemmer()"
   ]
  },
  {
   "cell_type": "code",
   "execution_count": 32,
   "metadata": {},
   "outputs": [],
   "source": [
    "for i in range(len(corpus)):\n",
    "    words=nltk.word_tokenize(corpus[i])\n",
    "    words=[stemmer.stem(word) for word in words]\n",
    "    corpus[i]=' '.join(words)"
   ]
  },
  {
   "cell_type": "code",
   "execution_count": 33,
   "metadata": {},
   "outputs": [
    {
     "data": {
      "text/plain": [
       "'countri coordin work with the countri director to provid environment inform to the gener public via regular electron commun and serv as the primari local contact to armenian ngo and busi and the armenian offic of intern organ and agenc help to organ and prepar cenn seminar workshop particip in defin the strategi and polici of cenn in armenia the caucasu region and abroad degre in environment relat field or 5 year relev experi oral and written fluenci in armenian russian and english knowledg experi of work with environment issu specif to armenia is plu remuner salari commensur with experi'"
      ]
     },
     "execution_count": 33,
     "metadata": {},
     "output_type": "execute_result"
    }
   ],
   "source": [
    "corpus[0]"
   ]
  },
  {
   "cell_type": "code",
   "execution_count": 34,
   "metadata": {},
   "outputs": [],
   "source": [
    "from sklearn.feature_extraction.text import TfidfVectorizer"
   ]
  },
  {
   "cell_type": "code",
   "execution_count": 35,
   "metadata": {},
   "outputs": [],
   "source": [
    "# Creating the Tf-Idf model directly\n",
    "tf=TfidfVectorizer(max_features = 2000, min_df = 0.05, max_df = 0.8, stop_words = stopwords.words('english'))"
   ]
  },
  {
   "cell_type": "code",
   "execution_count": 36,
   "metadata": {},
   "outputs": [],
   "source": [
    "X=tf.fit_transform(corpus).toarray()"
   ]
  },
  {
   "cell_type": "code",
   "execution_count": 37,
   "metadata": {},
   "outputs": [
    {
     "data": {
      "text/plain": [
       "(10925, 376)"
      ]
     },
     "execution_count": 37,
     "metadata": {},
     "output_type": "execute_result"
    }
   ],
   "source": [
    "X.shape"
   ]
  },
  {
   "cell_type": "code",
   "execution_count": 38,
   "metadata": {},
   "outputs": [],
   "source": [
    "from sklearn.model_selection import train_test_split"
   ]
  },
  {
   "cell_type": "code",
   "execution_count": 39,
   "metadata": {},
   "outputs": [],
   "source": [
    "train_x,test_x,train_y,test_y=train_test_split(X,Y,test_size=0.3,random_state=1234)"
   ]
  },
  {
   "cell_type": "markdown",
   "metadata": {},
   "source": [
    "### building Logistic model"
   ]
  },
  {
   "cell_type": "code",
   "execution_count": 40,
   "metadata": {},
   "outputs": [],
   "source": [
    "from sklearn.linear_model import LogisticRegression"
   ]
  },
  {
   "cell_type": "code",
   "execution_count": 41,
   "metadata": {},
   "outputs": [],
   "source": [
    "lc=LogisticRegression()"
   ]
  },
  {
   "cell_type": "code",
   "execution_count": 42,
   "metadata": {},
   "outputs": [
    {
     "name": "stderr",
     "output_type": "stream",
     "text": [
      "C:\\Users\\prash\\Anaconda3\\lib\\site-packages\\sklearn\\linear_model\\logistic.py:432: FutureWarning: Default solver will be changed to 'lbfgs' in 0.22. Specify a solver to silence this warning.\n",
      "  FutureWarning)\n"
     ]
    },
    {
     "data": {
      "text/plain": [
       "LogisticRegression(C=1.0, class_weight=None, dual=False, fit_intercept=True,\n",
       "                   intercept_scaling=1, l1_ratio=None, max_iter=100,\n",
       "                   multi_class='warn', n_jobs=None, penalty='l2',\n",
       "                   random_state=None, solver='warn', tol=0.0001, verbose=0,\n",
       "                   warm_start=False)"
      ]
     },
     "execution_count": 42,
     "metadata": {},
     "output_type": "execute_result"
    }
   ],
   "source": [
    "lc.fit(train_x,train_y)"
   ]
  },
  {
   "cell_type": "code",
   "execution_count": 43,
   "metadata": {},
   "outputs": [
    {
     "data": {
      "text/plain": [
       "array([False, False, False, ..., False,  True, False])"
      ]
     },
     "execution_count": 43,
     "metadata": {},
     "output_type": "execute_result"
    }
   ],
   "source": [
    "lc.predict(test_x)"
   ]
  },
  {
   "cell_type": "markdown",
   "metadata": {},
   "source": [
    "### Evaluation of model"
   ]
  },
  {
   "cell_type": "code",
   "execution_count": 44,
   "metadata": {},
   "outputs": [],
   "source": [
    "from sklearn import metrics"
   ]
  },
  {
   "cell_type": "code",
   "execution_count": 45,
   "metadata": {},
   "outputs": [
    {
     "name": "stdout",
     "output_type": "stream",
     "text": [
      "Accuracy score at test data:  0.9228187919463087\n"
     ]
    }
   ],
   "source": [
    "print('Accuracy score at test data: ',metrics.accuracy_score(test_y,lc.predict(test_x)))"
   ]
  },
  {
   "cell_type": "code",
   "execution_count": 46,
   "metadata": {},
   "outputs": [
    {
     "name": "stdout",
     "output_type": "stream",
     "text": [
      "Accuracy score at training data:  0.9339610304694651\n"
     ]
    }
   ],
   "source": [
    "print('Accuracy score at training data: ',metrics.accuracy_score(train_y,lc.predict(train_x)))"
   ]
  },
  {
   "cell_type": "code",
   "execution_count": 47,
   "metadata": {},
   "outputs": [],
   "source": [
    "import matplotlib.pyplot as plt\n",
    "import seaborn as sns"
   ]
  },
  {
   "cell_type": "code",
   "execution_count": 48,
   "metadata": {},
   "outputs": [],
   "source": [
    "cm=metrics.confusion_matrix(test_y,lc.predict(test_x))"
   ]
  },
  {
   "cell_type": "code",
   "execution_count": 49,
   "metadata": {},
   "outputs": [
    {
     "data": {
      "text/plain": [
       "Text(0.5, 15.0, 'Predicted label')"
      ]
     },
     "execution_count": 49,
     "metadata": {},
     "output_type": "execute_result"
    },
    {
     "data": {
      "image/png": "[encoded data removed]",
      "text/plain": [
       "<Figure size 432x288 with 2 Axes>"
      ]
     },
     "metadata": {
      "needs_background": "light"
     },
     "output_type": "display_data"
    }
   ],
   "source": [
    "sns.heatmap(cm, annot=True,  fmt='.2f', xticklabels = [\"0\", \"1\"] , yticklabels = [\"0\", \"1\"] )\n",
    "plt.ylabel('True label')\n",
    "plt.xlabel('Predicted label')"
   ]
  },
  {
   "cell_type": "code",
   "execution_count": 50,
   "metadata": {},
   "outputs": [
    {
     "data": {
      "text/html": [
       "<div>\n",
       "<style scoped>\n",
       "    .dataframe tbody tr th:only-of-type {\n",
       "        vertical-align: middle;\n",
       "    }\n",
       "\n",
       "    .dataframe tbody tr th {\n",
       "        vertical-align: top;\n",
       "    }\n",
       "\n",
       "    .dataframe thead th {\n",
       "        text-align: right;\n",
       "    }\n",
       "</style>\n",
       "<table border=\"1\" class=\"dataframe\">\n",
       "  <thead>\n",
       "    <tr style=\"text-align: right;\">\n",
       "      <th></th>\n",
       "      <th>actual</th>\n",
       "      <th>prob</th>\n",
       "    </tr>\n",
       "  </thead>\n",
       "  <tbody>\n",
       "    <tr>\n",
       "      <th>0</th>\n",
       "      <td>False</td>\n",
       "      <td>0.168701</td>\n",
       "    </tr>\n",
       "    <tr>\n",
       "      <th>1</th>\n",
       "      <td>False</td>\n",
       "      <td>0.005736</td>\n",
       "    </tr>\n",
       "    <tr>\n",
       "      <th>2</th>\n",
       "      <td>False</td>\n",
       "      <td>0.014669</td>\n",
       "    </tr>\n",
       "    <tr>\n",
       "      <th>3</th>\n",
       "      <td>False</td>\n",
       "      <td>0.040842</td>\n",
       "    </tr>\n",
       "    <tr>\n",
       "      <th>4</th>\n",
       "      <td>True</td>\n",
       "      <td>0.275632</td>\n",
       "    </tr>\n",
       "  </tbody>\n",
       "</table>\n",
       "</div>"
      ],
      "text/plain": [
       "   actual      prob\n",
       "0   False  0.168701\n",
       "1   False  0.005736\n",
       "2   False  0.014669\n",
       "3   False  0.040842\n",
       "4    True  0.275632"
      ]
     },
     "execution_count": 50,
     "metadata": {},
     "output_type": "execute_result"
    }
   ],
   "source": [
    "test_predicted_prob=pd.DataFrame(lc.predict_proba(test_x))[[1]]\n",
    "test_predicted_prob.columns=['prob']\n",
    "actual=test_y.reset_index(drop=True)\n",
    "\n",
    "\n",
    "# making a DataFrame with actual and prob columns\n",
    "df_test_predict = pd.concat([actual, test_predicted_prob], axis=1)\n",
    "df_test_predict.columns = ['actual','prob']\n",
    "df_test_predict.head()"
   ]
  },
  {
   "cell_type": "code",
   "execution_count": 51,
   "metadata": {},
   "outputs": [],
   "source": [
    "test_roc_like_df = pd.DataFrame()\n",
    "test_temp = df_test_predict.copy()\n",
    "\n",
    "for cut_off in np.linspace(0,1,50):\n",
    "    test_temp['predicted'] = test_temp['prob'].apply(lambda x: 0 if x < cut_off else 1)\n",
    "    test_temp['tp'] = test_temp.apply(lambda x: 1 if x['actual']==1 and x['predicted']==1 else 0, axis=1)\n",
    "    test_temp['fp'] = test_temp.apply(lambda x: 1 if x['actual']==0 and x['predicted']==1 else 0, axis=1)\n",
    "    test_temp['tn'] = test_temp.apply(lambda x: 1 if x['actual']==0 and x['predicted']==0 else 0, axis=1)\n",
    "    test_temp['fn'] = test_temp.apply(lambda x: 1 if x['actual']==1 and x['predicted']==0 else 0, axis=1)\n",
    "    sensitivity = test_temp['tp'].sum() / (test_temp['tp'].sum() + test_temp['fn'].sum())\n",
    "    specificity = test_temp['tn'].sum() / (test_temp['tn'].sum() + test_temp['fp'].sum())\n",
    "    \n",
    "    accuracy=(test_temp['tp'].sum()+test_temp['tn'].sum()) / (test_temp['tp'].sum() + test_temp['fn'].sum()+test_temp['tn'].sum() + test_temp['fp'].sum())\n",
    "    \n",
    "    test_roc_like_table = pd.DataFrame([cut_off, sensitivity, specificity,accuracy]).T\n",
    "    test_roc_like_table.columns = ['cutoff', 'sensitivity', 'specificity','accuracy']\n",
    "    test_roc_like_df = pd.concat([test_roc_like_df, test_roc_like_table], axis=0)"
   ]
  },
  {
   "cell_type": "code",
   "execution_count": 52,
   "metadata": {},
   "outputs": [
    {
     "data": {
      "text/html": [
       "<div>\n",
       "<style scoped>\n",
       "    .dataframe tbody tr th:only-of-type {\n",
       "        vertical-align: middle;\n",
       "    }\n",
       "\n",
       "    .dataframe tbody tr th {\n",
       "        vertical-align: top;\n",
       "    }\n",
       "\n",
       "    .dataframe thead th {\n",
       "        text-align: right;\n",
       "    }\n",
       "</style>\n",
       "<table border=\"1\" class=\"dataframe\">\n",
       "  <thead>\n",
       "    <tr style=\"text-align: right;\">\n",
       "      <th></th>\n",
       "      <th>cutoff</th>\n",
       "      <th>sensitivity</th>\n",
       "      <th>specificity</th>\n",
       "      <th>accuracy</th>\n",
       "    </tr>\n",
       "  </thead>\n",
       "  <tbody>\n",
       "    <tr>\n",
       "      <th>0</th>\n",
       "      <td>0.000000</td>\n",
       "      <td>1.000000</td>\n",
       "      <td>0.000000</td>\n",
       "      <td>0.233069</td>\n",
       "    </tr>\n",
       "    <tr>\n",
       "      <th>0</th>\n",
       "      <td>0.020408</td>\n",
       "      <td>0.993455</td>\n",
       "      <td>0.472156</td>\n",
       "      <td>0.593655</td>\n",
       "    </tr>\n",
       "    <tr>\n",
       "      <th>0</th>\n",
       "      <td>0.040816</td>\n",
       "      <td>0.981675</td>\n",
       "      <td>0.685760</td>\n",
       "      <td>0.754728</td>\n",
       "    </tr>\n",
       "    <tr>\n",
       "      <th>0</th>\n",
       "      <td>0.061224</td>\n",
       "      <td>0.969895</td>\n",
       "      <td>0.773667</td>\n",
       "      <td>0.819402</td>\n",
       "    </tr>\n",
       "    <tr>\n",
       "      <th>0</th>\n",
       "      <td>0.081633</td>\n",
       "      <td>0.962042</td>\n",
       "      <td>0.821798</td>\n",
       "      <td>0.854484</td>\n",
       "    </tr>\n",
       "  </tbody>\n",
       "</table>\n",
       "</div>"
      ],
      "text/plain": [
       "     cutoff  sensitivity  specificity  accuracy\n",
       "0  0.000000     1.000000     0.000000  0.233069\n",
       "0  0.020408     0.993455     0.472156  0.593655\n",
       "0  0.040816     0.981675     0.685760  0.754728\n",
       "0  0.061224     0.969895     0.773667  0.819402\n",
       "0  0.081633     0.962042     0.821798  0.854484"
      ]
     },
     "execution_count": 52,
     "metadata": {},
     "output_type": "execute_result"
    }
   ],
   "source": [
    "test_roc_like_df.head()"
   ]
  },
  {
   "cell_type": "code",
   "execution_count": 53,
   "metadata": {},
   "outputs": [
    {
     "data": {
      "text/plain": [
       "<matplotlib.legend.Legend at 0x16eb8937d48>"
      ]
     },
     "execution_count": 53,
     "metadata": {},
     "output_type": "execute_result"
    },
    {
     "data": {
      "image/png": "[encoded data removed]",
      "text/plain": [
       "<Figure size 720x288 with 1 Axes>"
      ]
     },
     "metadata": {
      "needs_background": "light"
     },
     "output_type": "display_data"
    }
   ],
   "source": [
    "test_temp.sum()\n",
    "plt.subplots(figsize=(10,4))\n",
    "plt.scatter(test_roc_like_df['cutoff'], test_roc_like_df['sensitivity'], marker='*', label='Sensitivity')\n",
    "plt.scatter(test_roc_like_df['cutoff'], test_roc_like_df['specificity'], marker='*', label='Specificity')\n",
    "#plt.scatter(test_roc_like_df['cutoff'], 1-test_roc_like_df['specificity'], marker='*', label='FPR')\n",
    "plt.title('For each cutoff, pair of sensitivity and FPR is plotted for ROC')\n",
    "plt.legend()"
   ]
  },
  {
   "cell_type": "code",
   "execution_count": 54,
   "metadata": {},
   "outputs": [
    {
     "data": {
      "text/html": [
       "<div>\n",
       "<style scoped>\n",
       "    .dataframe tbody tr th:only-of-type {\n",
       "        vertical-align: middle;\n",
       "    }\n",
       "\n",
       "    .dataframe tbody tr th {\n",
       "        vertical-align: top;\n",
       "    }\n",
       "\n",
       "    .dataframe thead th {\n",
       "        text-align: right;\n",
       "    }\n",
       "</style>\n",
       "<table border=\"1\" class=\"dataframe\">\n",
       "  <thead>\n",
       "    <tr style=\"text-align: right;\">\n",
       "      <th></th>\n",
       "      <th>cutoff</th>\n",
       "      <th>sensitivity</th>\n",
       "      <th>specificity</th>\n",
       "      <th>accuracy</th>\n",
       "      <th>total</th>\n",
       "    </tr>\n",
       "  </thead>\n",
       "  <tbody>\n",
       "    <tr>\n",
       "      <th>0</th>\n",
       "      <td>0.122449</td>\n",
       "      <td>0.954188</td>\n",
       "      <td>0.857597</td>\n",
       "      <td>0.88011</td>\n",
       "      <td>1.834298</td>\n",
       "    </tr>\n",
       "  </tbody>\n",
       "</table>\n",
       "</div>"
      ],
      "text/plain": [
       "     cutoff  sensitivity  specificity  accuracy     total\n",
       "0  0.122449     0.954188     0.857597   0.88011  1.834298"
      ]
     },
     "execution_count": 54,
     "metadata": {},
     "output_type": "execute_result"
    }
   ],
   "source": [
    "test_roc_like_df['total'] = test_roc_like_df['sensitivity'] + test_roc_like_df['accuracy']\n",
    "test_roc_like_df[test_roc_like_df['total']==test_roc_like_df['total'].max()]"
   ]
  },
  {
   "cell_type": "code",
   "execution_count": 55,
   "metadata": {},
   "outputs": [
    {
     "data": {
      "text/plain": [
       "<matplotlib.axes._subplots.AxesSubplot at 0x16eb8a466c8>"
      ]
     },
     "execution_count": 55,
     "metadata": {},
     "output_type": "execute_result"
    },
    {
     "data": {
      "image/png": "[encoded data removed]",
      "text/plain": [
       "<Figure size 432x288 with 2 Axes>"
      ]
     },
     "metadata": {
      "needs_background": "light"
     },
     "output_type": "display_data"
    }
   ],
   "source": [
    "df_test_predict['predicted'] = df_test_predict['prob'].apply(lambda x: 1 if x > 0.122449 else 0)\n",
    "\n",
    "import seaborn as sns\n",
    "sns.heatmap(pd.crosstab(df_test_predict['actual'], df_test_predict['predicted']), annot=True, fmt='.0f')"
   ]
  },
  {
   "cell_type": "code",
   "execution_count": 56,
   "metadata": {},
   "outputs": [
    {
     "name": "stdout",
     "output_type": "stream",
     "text": [
      "Accuracy:  0.88\n"
     ]
    }
   ],
   "source": [
    "accuracy=metrics.accuracy_score(df_test_predict.actual, df_test_predict.predicted)\n",
    "print('Accuracy: ',round(accuracy,2))"
   ]
  },
  {
   "cell_type": "markdown",
   "metadata": {},
   "source": [
    "### using Random Forest"
   ]
  },
  {
   "cell_type": "code",
   "execution_count": 57,
   "metadata": {},
   "outputs": [],
   "source": [
    "from sklearn.ensemble import RandomForestClassifier"
   ]
  },
  {
   "cell_type": "code",
   "execution_count": 58,
   "metadata": {},
   "outputs": [],
   "source": [
    "from sklearn.model_selection import GridSearchCV"
   ]
  },
  {
   "cell_type": "code",
   "execution_count": 59,
   "metadata": {},
   "outputs": [],
   "source": [
    "rt=RandomForestClassifier()"
   ]
  },
  {
   "cell_type": "code",
   "execution_count": 60,
   "metadata": {},
   "outputs": [],
   "source": [
    "params={'n_estimators':[100,200,300,400,500]}"
   ]
  },
  {
   "cell_type": "code",
   "execution_count": 61,
   "metadata": {},
   "outputs": [],
   "source": [
    "# finding best parameters\n",
    "grid=GridSearchCV(RandomForestClassifier(),n_jobs=-1,cv=10,param_grid=params)"
   ]
  },
  {
   "cell_type": "code",
   "execution_count": 62,
   "metadata": {},
   "outputs": [
    {
     "data": {
      "text/plain": [
       "GridSearchCV(cv=10, error_score='raise-deprecating',\n",
       "             estimator=RandomForestClassifier(bootstrap=True, class_weight=None,\n",
       "                                              criterion='gini', max_depth=None,\n",
       "                                              max_features='auto',\n",
       "                                              max_leaf_nodes=None,\n",
       "                                              min_impurity_decrease=0.0,\n",
       "                                              min_impurity_split=None,\n",
       "                                              min_samples_leaf=1,\n",
       "                                              min_samples_split=2,\n",
       "                                              min_weight_fraction_leaf=0.0,\n",
       "                                              n_estimators='warn', n_jobs=None,\n",
       "                                              oob_score=False,\n",
       "                                              random_state=None, verbose=0,\n",
       "                                              warm_start=False),\n",
       "             iid='warn', n_jobs=-1,\n",
       "             param_grid={'n_estimators': [100, 200, 300, 400, 500]},\n",
       "             pre_dispatch='2*n_jobs', refit=True, return_train_score=False,\n",
       "             scoring=None, verbose=0)"
      ]
     },
     "execution_count": 62,
     "metadata": {},
     "output_type": "execute_result"
    }
   ],
   "source": [
    "grid.fit(train_x,train_y)"
   ]
  },
  {
   "cell_type": "code",
   "execution_count": 63,
   "metadata": {},
   "outputs": [
    {
     "data": {
      "text/plain": [
       "{'n_estimators': 200}"
      ]
     },
     "execution_count": 63,
     "metadata": {},
     "output_type": "execute_result"
    }
   ],
   "source": [
    "grid.best_params_"
   ]
  },
  {
   "cell_type": "code",
   "execution_count": 64,
   "metadata": {},
   "outputs": [],
   "source": [
    "rt=RandomForestClassifier(n_estimators=300,n_jobs=-1)"
   ]
  },
  {
   "cell_type": "code",
   "execution_count": 65,
   "metadata": {},
   "outputs": [
    {
     "data": {
      "text/plain": [
       "RandomForestClassifier(bootstrap=True, class_weight=None, criterion='gini',\n",
       "                       max_depth=None, max_features='auto', max_leaf_nodes=None,\n",
       "                       min_impurity_decrease=0.0, min_impurity_split=None,\n",
       "                       min_samples_leaf=1, min_samples_split=2,\n",
       "                       min_weight_fraction_leaf=0.0, n_estimators=300,\n",
       "                       n_jobs=-1, oob_score=False, random_state=None, verbose=0,\n",
       "                       warm_start=False)"
      ]
     },
     "execution_count": 65,
     "metadata": {},
     "output_type": "execute_result"
    }
   ],
   "source": [
    "rt.fit(train_x,train_y)"
   ]
  },
  {
   "cell_type": "code",
   "execution_count": 66,
   "metadata": {},
   "outputs": [
    {
     "data": {
      "text/plain": [
       "array([False, False, False, ..., False,  True, False])"
      ]
     },
     "execution_count": 66,
     "metadata": {},
     "output_type": "execute_result"
    }
   ],
   "source": [
    "rt.predict(test_x)"
   ]
  },
  {
   "cell_type": "markdown",
   "metadata": {},
   "source": [
    "### Model evaluation"
   ]
  },
  {
   "cell_type": "code",
   "execution_count": 67,
   "metadata": {},
   "outputs": [
    {
     "data": {
      "text/plain": [
       "0.9383770591824283"
      ]
     },
     "execution_count": 67,
     "metadata": {},
     "output_type": "execute_result"
    }
   ],
   "source": [
    "metrics.accuracy_score(rt.predict(test_x),test_y)"
   ]
  },
  {
   "cell_type": "code",
   "execution_count": 68,
   "metadata": {},
   "outputs": [],
   "source": [
    "cm=metrics.confusion_matrix(rt.predict(test_x),test_y)"
   ]
  },
  {
   "cell_type": "code",
   "execution_count": 69,
   "metadata": {},
   "outputs": [
    {
     "data": {
      "text/plain": [
       "array([[2453,  141],\n",
       "       [  61,  623]], dtype=int64)"
      ]
     },
     "execution_count": 69,
     "metadata": {},
     "output_type": "execute_result"
    }
   ],
   "source": [
    "cm"
   ]
  },
  {
   "cell_type": "code",
   "execution_count": 70,
   "metadata": {},
   "outputs": [
    {
     "name": "stdout",
     "output_type": "stream",
     "text": [
      "test_accuracy:  0.9383770591824283\n",
      "train_accuracy:  0.9998692297633058\n"
     ]
    }
   ],
   "source": [
    "test_accuracy=metrics.accuracy_score(test_y,rt.predict(test_x))\n",
    "print('test_accuracy: ',test_accuracy)\n",
    "\n",
    "train_accuracy=metrics.accuracy_score(train_y,rt.predict(train_x))\n",
    "print('train_accuracy: ',train_accuracy)\n"
   ]
  },
  {
   "cell_type": "code",
   "execution_count": 71,
   "metadata": {},
   "outputs": [
    {
     "name": "stdout",
     "output_type": "stream",
     "text": [
      "              precision    recall  f1-score   support\n",
      "\n",
      "       False       0.95      0.98      0.96      2514\n",
      "        True       0.91      0.82      0.86       764\n",
      "\n",
      "    accuracy                           0.94      3278\n",
      "   macro avg       0.93      0.90      0.91      3278\n",
      "weighted avg       0.94      0.94      0.94      3278\n",
      "\n"
     ]
    }
   ],
   "source": [
    "from sklearn.metrics import classification_report\n",
    "print(classification_report(test_y,rt.predict(test_x)))"
   ]
  },
  {
   "cell_type": "code",
   "execution_count": 72,
   "metadata": {},
   "outputs": [
    {
     "data": {
      "text/plain": [
       "Text(0.5, 15.0, 'Predicted label')"
      ]
     },
     "execution_count": 72,
     "metadata": {},
     "output_type": "execute_result"
    },
    {
     "data": {
      "image/png": "[encoded data removed]",
      "text/plain": [
       "<Figure size 432x288 with 2 Axes>"
      ]
     },
     "metadata": {
      "needs_background": "light"
     },
     "output_type": "display_data"
    }
   ],
   "source": [
    "# Creating a confusion matrix\n",
    "\n",
    "from sklearn import metrics\n",
    "\n",
    "cm = metrics.confusion_matrix(test_y,\n",
    "                            rt.predict(test_x), [0,1] )\n",
    "cm\n",
    "\n",
    "import matplotlib.pyplot as plt\n",
    "import seaborn as sn\n",
    "%matplotlib inline\n",
    "\n",
    "sn.heatmap(cm, annot=True,  fmt='.2f', xticklabels = [\"0\", \"1\"] , yticklabels = [\"0\", \"1\"] )\n",
    "plt.ylabel('True label')\n",
    "plt.xlabel('Predicted label')"
   ]
  },
  {
   "cell_type": "markdown",
   "metadata": {},
   "source": [
    "### Using SVM"
   ]
  },
  {
   "cell_type": "code",
   "execution_count": 73,
   "metadata": {},
   "outputs": [],
   "source": [
    "from sklearn.svm import SVC"
   ]
  },
  {
   "cell_type": "code",
   "execution_count": 74,
   "metadata": {},
   "outputs": [
    {
     "data": {
      "text/plain": [
       "SVC(C=1.0, cache_size=200, class_weight=None, coef0=0.0,\n",
       "    decision_function_shape='ovr', degree=3, gamma='auto', kernel='linear',\n",
       "    max_iter=-1, probability=False, random_state=None, shrinking=True,\n",
       "    tol=0.001, verbose=False)"
      ]
     },
     "execution_count": 74,
     "metadata": {},
     "output_type": "execute_result"
    }
   ],
   "source": [
    "SVM = SVC(C=1.0, kernel='linear', degree=3, gamma='auto')\n",
    "SVM.fit(train_x,train_y)"
   ]
  },
  {
   "cell_type": "code",
   "execution_count": 75,
   "metadata": {},
   "outputs": [
    {
     "data": {
      "text/plain": [
       "array([False, False, False, ..., False,  True, False])"
      ]
     },
     "execution_count": 75,
     "metadata": {},
     "output_type": "execute_result"
    }
   ],
   "source": [
    "SVM.predict(test_x)"
   ]
  },
  {
   "cell_type": "code",
   "execution_count": 76,
   "metadata": {},
   "outputs": [
    {
     "data": {
      "text/plain": [
       "0.9200732153752288"
      ]
     },
     "execution_count": 76,
     "metadata": {},
     "output_type": "execute_result"
    }
   ],
   "source": [
    "metrics.accuracy_score(SVM.predict(test_x),test_y)"
   ]
  },
  {
   "cell_type": "markdown",
   "metadata": {},
   "source": [
    "###   #4 Similarity Of Jobs using clustering\n",
    "\n"
   ]
  },
  {
   "cell_type": "code",
   "execution_count": 77,
   "metadata": {},
   "outputs": [
    {
     "data": {
      "text/plain": [
       "0                                  Chief Financial Officer\n",
       "1        Full-time Community Connections Intern (paid i...\n",
       "2                                      Country Coordinator\n",
       "3                                           BCC Specialist\n",
       "4                                       Software Developer\n",
       "                               ...                        \n",
       "18996                      Senior Creative UX/ UI Designer\n",
       "18997                         Category Development Manager\n",
       "18998                        Operational Marketing Manager\n",
       "18999                      Head of Online Sales Department\n",
       "19000                           Lawyer in Legal Department\n",
       "Name: Title, Length: 19001, dtype: object"
      ]
     },
     "execution_count": 77,
     "metadata": {},
     "output_type": "execute_result"
    }
   ],
   "source": [
    "data.Title"
   ]
  },
  {
   "cell_type": "code",
   "execution_count": 78,
   "metadata": {},
   "outputs": [
    {
     "data": {
      "text/plain": [
       "(7647, 376)"
      ]
     },
     "execution_count": 78,
     "metadata": {},
     "output_type": "execute_result"
    }
   ],
   "source": [
    "train_x.shape"
   ]
  },
  {
   "cell_type": "code",
   "execution_count": 79,
   "metadata": {},
   "outputs": [
    {
     "data": {
      "text/plain": [
       "(10925, 376)"
      ]
     },
     "execution_count": 79,
     "metadata": {},
     "output_type": "execute_result"
    }
   ],
   "source": [
    "X.shape"
   ]
  },
  {
   "cell_type": "code",
   "execution_count": 80,
   "metadata": {},
   "outputs": [],
   "source": [
    "from sklearn.feature_extraction.text import TfidfVectorizer"
   ]
  },
  {
   "cell_type": "code",
   "execution_count": 81,
   "metadata": {},
   "outputs": [],
   "source": [
    "from sklearn.cluster import KMeans"
   ]
  },
  {
   "cell_type": "code",
   "execution_count": 82,
   "metadata": {},
   "outputs": [],
   "source": [
    "tf=TfidfVectorizer(max_features = 2000, min_df = 0.01, max_df = 0.9,stop_words='english')"
   ]
  },
  {
   "cell_type": "code",
   "execution_count": 83,
   "metadata": {},
   "outputs": [],
   "source": [
    "data.Title.dropna(inplace=True)"
   ]
  },
  {
   "cell_type": "code",
   "execution_count": 84,
   "metadata": {},
   "outputs": [
    {
     "data": {
      "text/plain": [
       "TfidfVectorizer(analyzer='word', binary=False, decode_error='strict',\n",
       "                dtype=<class 'numpy.float64'>, encoding='utf-8',\n",
       "                input='content', lowercase=True, max_df=0.9, max_features=2000,\n",
       "                min_df=0.01, ngram_range=(1, 1), norm='l2', preprocessor=None,\n",
       "                smooth_idf=True, stop_words='english', strip_accents=None,\n",
       "                sublinear_tf=False, token_pattern='(?u)\\\\b\\\\w\\\\w+\\\\b',\n",
       "                tokenizer=None, use_idf=True, vocabulary=None)"
      ]
     },
     "execution_count": 84,
     "metadata": {},
     "output_type": "execute_result"
    }
   ],
   "source": [
    "tf.fit(data.Title.values)"
   ]
  },
  {
   "cell_type": "code",
   "execution_count": 85,
   "metadata": {},
   "outputs": [],
   "source": [
    "feat=tf.fit_transform(data.Title.values).toarray()"
   ]
  },
  {
   "cell_type": "code",
   "execution_count": 86,
   "metadata": {},
   "outputs": [],
   "source": [
    "cls=KMeans(n_clusters=5,random_state=1234)"
   ]
  },
  {
   "cell_type": "code",
   "execution_count": 87,
   "metadata": {},
   "outputs": [
    {
     "data": {
      "text/plain": [
       "KMeans(algorithm='auto', copy_x=True, init='k-means++', max_iter=300,\n",
       "       n_clusters=5, n_init=10, n_jobs=None, precompute_distances='auto',\n",
       "       random_state=1234, tol=0.0001, verbose=0)"
      ]
     },
     "execution_count": 87,
     "metadata": {},
     "output_type": "execute_result"
    }
   ],
   "source": [
    "cls.fit(feat)"
   ]
  },
  {
   "cell_type": "code",
   "execution_count": 88,
   "metadata": {},
   "outputs": [],
   "source": [
    "cluster_range = range(1,20)\n",
    "cluster_errors = []\n",
    "\n",
    "for num_clusters in cluster_range:\n",
    "    clusters = KMeans( num_clusters )\n",
    "    clusters.fit(feat)\n",
    "    cluster_errors.append( clusters.inertia_ )\n"
   ]
  },
  {
   "cell_type": "code",
   "execution_count": 89,
   "metadata": {},
   "outputs": [
    {
     "data": {
      "text/html": [
       "<div>\n",
       "<style scoped>\n",
       "    .dataframe tbody tr th:only-of-type {\n",
       "        vertical-align: middle;\n",
       "    }\n",
       "\n",
       "    .dataframe tbody tr th {\n",
       "        vertical-align: top;\n",
       "    }\n",
       "\n",
       "    .dataframe thead th {\n",
       "        text-align: right;\n",
       "    }\n",
       "</style>\n",
       "<table border=\"1\" class=\"dataframe\">\n",
       "  <thead>\n",
       "    <tr style=\"text-align: right;\">\n",
       "      <th></th>\n",
       "      <th>num_clusters</th>\n",
       "      <th>cluster_errors</th>\n",
       "    </tr>\n",
       "  </thead>\n",
       "  <tbody>\n",
       "    <tr>\n",
       "      <th>0</th>\n",
       "      <td>1</td>\n",
       "      <td>15723.753352</td>\n",
       "    </tr>\n",
       "    <tr>\n",
       "      <th>1</th>\n",
       "      <td>2</td>\n",
       "      <td>14714.910675</td>\n",
       "    </tr>\n",
       "    <tr>\n",
       "      <th>2</th>\n",
       "      <td>3</td>\n",
       "      <td>13633.365422</td>\n",
       "    </tr>\n",
       "    <tr>\n",
       "      <th>3</th>\n",
       "      <td>4</td>\n",
       "      <td>12761.541186</td>\n",
       "    </tr>\n",
       "    <tr>\n",
       "      <th>4</th>\n",
       "      <td>5</td>\n",
       "      <td>12192.560137</td>\n",
       "    </tr>\n",
       "    <tr>\n",
       "      <th>5</th>\n",
       "      <td>6</td>\n",
       "      <td>11526.614340</td>\n",
       "    </tr>\n",
       "    <tr>\n",
       "      <th>6</th>\n",
       "      <td>7</td>\n",
       "      <td>10897.270624</td>\n",
       "    </tr>\n",
       "    <tr>\n",
       "      <th>7</th>\n",
       "      <td>8</td>\n",
       "      <td>10326.115586</td>\n",
       "    </tr>\n",
       "    <tr>\n",
       "      <th>8</th>\n",
       "      <td>9</td>\n",
       "      <td>10116.550280</td>\n",
       "    </tr>\n",
       "    <tr>\n",
       "      <th>9</th>\n",
       "      <td>10</td>\n",
       "      <td>10065.522685</td>\n",
       "    </tr>\n",
       "    <tr>\n",
       "      <th>10</th>\n",
       "      <td>11</td>\n",
       "      <td>9476.207389</td>\n",
       "    </tr>\n",
       "    <tr>\n",
       "      <th>11</th>\n",
       "      <td>12</td>\n",
       "      <td>9252.756705</td>\n",
       "    </tr>\n",
       "    <tr>\n",
       "      <th>12</th>\n",
       "      <td>13</td>\n",
       "      <td>8981.582851</td>\n",
       "    </tr>\n",
       "    <tr>\n",
       "      <th>13</th>\n",
       "      <td>14</td>\n",
       "      <td>8594.043111</td>\n",
       "    </tr>\n",
       "    <tr>\n",
       "      <th>14</th>\n",
       "      <td>15</td>\n",
       "      <td>8477.988814</td>\n",
       "    </tr>\n",
       "    <tr>\n",
       "      <th>15</th>\n",
       "      <td>16</td>\n",
       "      <td>8249.193730</td>\n",
       "    </tr>\n",
       "    <tr>\n",
       "      <th>16</th>\n",
       "      <td>17</td>\n",
       "      <td>8116.468524</td>\n",
       "    </tr>\n",
       "    <tr>\n",
       "      <th>17</th>\n",
       "      <td>18</td>\n",
       "      <td>7948.899883</td>\n",
       "    </tr>\n",
       "    <tr>\n",
       "      <th>18</th>\n",
       "      <td>19</td>\n",
       "      <td>7633.247256</td>\n",
       "    </tr>\n",
       "  </tbody>\n",
       "</table>\n",
       "</div>"
      ],
      "text/plain": [
       "    num_clusters  cluster_errors\n",
       "0              1    15723.753352\n",
       "1              2    14714.910675\n",
       "2              3    13633.365422\n",
       "3              4    12761.541186\n",
       "4              5    12192.560137\n",
       "5              6    11526.614340\n",
       "6              7    10897.270624\n",
       "7              8    10326.115586\n",
       "8              9    10116.550280\n",
       "9             10    10065.522685\n",
       "10            11     9476.207389\n",
       "11            12     9252.756705\n",
       "12            13     8981.582851\n",
       "13            14     8594.043111\n",
       "14            15     8477.988814\n",
       "15            16     8249.193730\n",
       "16            17     8116.468524\n",
       "17            18     7948.899883\n",
       "18            19     7633.247256"
      ]
     },
     "execution_count": 89,
     "metadata": {},
     "output_type": "execute_result"
    }
   ],
   "source": [
    "clusters_df = pd.DataFrame( { \"num_clusters\":cluster_range, \"cluster_errors\": cluster_errors } )\n",
    "\n",
    "clusters_df"
   ]
  },
  {
   "cell_type": "code",
   "execution_count": 90,
   "metadata": {},
   "outputs": [
    {
     "data": {
      "text/plain": [
       "<Figure size 864x432 with 0 Axes>"
      ]
     },
     "execution_count": 90,
     "metadata": {},
     "output_type": "execute_result"
    },
    {
     "data": {
      "image/png": "[encoded data removed]",
      "text/plain": [
       "<Figure size 432x288 with 1 Axes>"
      ]
     },
     "metadata": {
      "needs_background": "light"
     },
     "output_type": "display_data"
    },
    {
     "data": {
      "text/plain": [
       "<Figure size 864x432 with 0 Axes>"
      ]
     },
     "metadata": {},
     "output_type": "display_data"
    }
   ],
   "source": [
    "import matplotlib.pyplot as plt\n",
    "plt.grid(True)\n",
    "plt.plot(clusters_df.num_clusters,clusters_df.cluster_errors,marker='o')\n",
    "plt.figure(figsize=(12,6))"
   ]
  },
  {
   "cell_type": "code",
   "execution_count": 91,
   "metadata": {},
   "outputs": [
    {
     "data": {
      "text/plain": [
       "5"
      ]
     },
     "execution_count": 91,
     "metadata": {},
     "output_type": "execute_result"
    }
   ],
   "source": [
    "cls.n_clusters"
   ]
  },
  {
   "cell_type": "markdown",
   "metadata": {},
   "source": [
    "### Silhouette Coefficient"
   ]
  },
  {
   "cell_type": "code",
   "execution_count": 92,
   "metadata": {},
   "outputs": [],
   "source": [
    "from sklearn import metrics"
   ]
  },
  {
   "cell_type": "code",
   "execution_count": 93,
   "metadata": {},
   "outputs": [],
   "source": [
    "# calculate SC for K=3 through K=12\n",
    "k_range = range(2, 12)\n",
    "scores = []\n",
    "for k in k_range:\n",
    "    km = KMeans(n_clusters=k, random_state=1)\n",
    "    km.fit(X)\n",
    "    scores.append(metrics.silhouette_score(X, km.labels_))"
   ]
  },
  {
   "cell_type": "code",
   "execution_count": 94,
   "metadata": {},
   "outputs": [
    {
     "data": {
      "image/png": "[encoded data removed]",
      "text/plain": [
       "<Figure size 432x288 with 1 Axes>"
      ]
     },
     "metadata": {
      "needs_background": "light"
     },
     "output_type": "display_data"
    }
   ],
   "source": [
    "# plot the results\n",
    "plt.plot(k_range, scores)\n",
    "plt.xlabel('Number of clusters')\n",
    "plt.ylabel('Silhouette Coefficient')\n",
    "plt.grid(True)"
   ]
  },
  {
   "cell_type": "code",
   "execution_count": 95,
   "metadata": {},
   "outputs": [
    {
     "data": {
      "text/plain": [
       "KMeans(algorithm='auto', copy_x=True, init='k-means++', max_iter=100,\n",
       "       n_clusters=5, n_init=1, n_jobs=None, precompute_distances='auto',\n",
       "       random_state=None, tol=0.0001, verbose=0)"
      ]
     },
     "execution_count": 95,
     "metadata": {},
     "output_type": "execute_result"
    }
   ],
   "source": [
    "true_k = 5\n",
    "model = KMeans(n_clusters=true_k, init='k-means++', max_iter=100, n_init=1)\n",
    "model.fit(feat)"
   ]
  },
  {
   "cell_type": "code",
   "execution_count": 96,
   "metadata": {},
   "outputs": [
    {
     "name": "stdout",
     "output_type": "stream",
     "text": [
      "Top terms per cluster:\n",
      "Cluster 0:\n",
      " office\n",
      " manager\n",
      " assistant\n",
      " administrator\n",
      " coordinator\n",
      "Cluster 1:\n",
      " specialist\n",
      " marketing\n",
      " senior\n",
      " department\n",
      " development\n",
      "Cluster 2:\n",
      " developer\n",
      " software\n",
      " senior\n",
      " net\n",
      " java\n",
      "Cluster 3:\n",
      " accountant\n",
      " chief\n",
      " senior\n",
      " assistant\n",
      " financial\n",
      "Cluster 4:\n",
      " manager\n",
      " engineer\n",
      " assistant\n",
      " sales\n",
      " officer\n"
     ]
    }
   ],
   "source": [
    "print(\"Top terms per cluster:\")\n",
    "order_centroids = model.cluster_centers_.argsort()[:, ::-1]\n",
    "terms = tf.get_feature_names()\n",
    "for i in range(true_k):\n",
    "    print(\"Cluster %d:\" % i),\n",
    "    for ind in order_centroids[i,:5]:\n",
    "        print(' %s' % terms[ind]),\n",
    "\n",
    "        "
   ]
  }
 ],
 "metadata": {
  "kernelspec": {
   "display_name": "Python 3",
   "language": "python",
   "name": "python3"
  },
  "language_info": {
   "codemirror_mode": {
    "name": "ipython",
    "version": 3
   },
   "file_extension": ".py",
   "mimetype": "text/x-python",
   "name": "python",
   "nbconvert_exporter": "python",
   "pygments_lexer": "ipython3",
   "version": "3.7.4"
  }
 },
 "nbformat": 4,
 "nbformat_minor": 2
}
